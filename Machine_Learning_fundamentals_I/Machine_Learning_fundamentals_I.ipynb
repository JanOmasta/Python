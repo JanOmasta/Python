{
 "cells": [
  {
   "cell_type": "code",
   "execution_count": 2,
   "id": "mature-confirmation",
   "metadata": {},
   "outputs": [],
   "source": [
    "import numpy as np"
   ]
  },
  {
   "cell_type": "code",
   "execution_count": 3,
   "id": "accredited-implementation",
   "metadata": {
    "tags": []
   },
   "outputs": [
    {
     "data": {
      "text/plain": [
       "array(12)"
      ]
     },
     "execution_count": 3,
     "metadata": {},
     "output_type": "execute_result"
    }
   ],
   "source": [
    "# Tensors definition.\n",
    "\n",
    "# 0D tensor = scalar tensor\n",
    "\n",
    "x = np.array(12)\n",
    "x"
   ]
  },
  {
   "cell_type": "code",
   "execution_count": 4,
   "id": "paperback-walnut",
   "metadata": {},
   "outputs": [
    {
     "data": {
      "text/plain": [
       "0"
      ]
     },
     "execution_count": 4,
     "metadata": {},
     "output_type": "execute_result"
    }
   ],
   "source": [
    "x.ndim"
   ]
  },
  {
   "cell_type": "code",
   "execution_count": 5,
   "id": "injured-greene",
   "metadata": {},
   "outputs": [
    {
     "data": {
      "text/plain": [
       "dtype('int32')"
      ]
     },
     "execution_count": 5,
     "metadata": {},
     "output_type": "execute_result"
    }
   ],
   "source": [
    "x.dtype"
   ]
  },
  {
   "cell_type": "code",
   "execution_count": 6,
   "id": "afraid-grill",
   "metadata": {},
   "outputs": [
    {
     "data": {
      "text/plain": [
       "array(12.5)"
      ]
     },
     "execution_count": 6,
     "metadata": {},
     "output_type": "execute_result"
    }
   ],
   "source": [
    "y = np.array(12.5)\n",
    "y"
   ]
  },
  {
   "cell_type": "code",
   "execution_count": 7,
   "id": "sought-reliance",
   "metadata": {},
   "outputs": [
    {
     "data": {
      "text/plain": [
       "dtype('float64')"
      ]
     },
     "execution_count": 7,
     "metadata": {},
     "output_type": "execute_result"
    }
   ],
   "source": [
    "y.dtype"
   ]
  },
  {
   "cell_type": "code",
   "execution_count": 8,
   "id": "finite-lecture",
   "metadata": {},
   "outputs": [
    {
     "data": {
      "text/plain": [
       "array([12,  3,  6, 14,  7])"
      ]
     },
     "execution_count": 8,
     "metadata": {},
     "output_type": "execute_result"
    }
   ],
   "source": [
    "# 1D tensor = vector \n",
    "\n",
    "# This vector 'a' has 5 items.\n",
    "a = np.array([12, 3, 6, 14, 7])\n",
    "a"
   ]
  },
  {
   "cell_type": "code",
   "execution_count": 9,
   "id": "plain-municipality",
   "metadata": {},
   "outputs": [
    {
     "data": {
      "text/plain": [
       "1"
      ]
     },
     "execution_count": 9,
     "metadata": {},
     "output_type": "execute_result"
    }
   ],
   "source": [
    "a.ndim"
   ]
  },
  {
   "cell_type": "code",
   "execution_count": 10,
   "id": "hazardous-words",
   "metadata": {},
   "outputs": [
    {
     "data": {
      "text/plain": [
       "dtype('int32')"
      ]
     },
     "execution_count": 10,
     "metadata": {},
     "output_type": "execute_result"
    }
   ],
   "source": [
    "a.dtype"
   ]
  },
  {
   "cell_type": "code",
   "execution_count": 13,
   "id": "sacred-church",
   "metadata": {},
   "outputs": [
    {
     "data": {
      "text/plain": [
       "array([[ 5, 78,  2, 34,  0],\n",
       "       [ 6, 79,  3, 35,  1],\n",
       "       [ 7, 80,  4, 36,  2]])"
      ]
     },
     "execution_count": 13,
     "metadata": {},
     "output_type": "execute_result"
    }
   ],
   "source": [
    "# 2D tensor = matrix\n",
    "\n",
    "# This matrix's shape is (3, 5). Number of rows and columns.\n",
    "b = np.array([[5, 78, 2, 34, 0],\n",
    "              [6, 79, 3, 35, 1],\n",
    "              [7, 80, 4, 36, 2]])\n",
    "b"
   ]
  },
  {
   "cell_type": "code",
   "execution_count": 14,
   "id": "adjacent-wichita",
   "metadata": {},
   "outputs": [
    {
     "data": {
      "text/plain": [
       "2"
      ]
     },
     "execution_count": 14,
     "metadata": {},
     "output_type": "execute_result"
    }
   ],
   "source": [
    "b.ndim"
   ]
  },
  {
   "cell_type": "code",
   "execution_count": 15,
   "id": "working-alloy",
   "metadata": {},
   "outputs": [
    {
     "data": {
      "text/plain": [
       "(3, 5)"
      ]
     },
     "execution_count": 15,
     "metadata": {},
     "output_type": "execute_result"
    }
   ],
   "source": [
    "b.shape"
   ]
  },
  {
   "cell_type": "code",
   "execution_count": 16,
   "id": "fluid-approach",
   "metadata": {},
   "outputs": [
    {
     "data": {
      "text/plain": [
       "dtype('int32')"
      ]
     },
     "execution_count": 16,
     "metadata": {},
     "output_type": "execute_result"
    }
   ],
   "source": [
    "b.dtype"
   ]
  },
  {
   "cell_type": "code",
   "execution_count": 17,
   "id": "imposed-litigation",
   "metadata": {},
   "outputs": [
    {
     "data": {
      "text/plain": [
       "array([[[ 5, 78,  2, 34,  0],\n",
       "        [ 6, 79,  3, 35,  1],\n",
       "        [ 7, 80,  4, 36,  2]],\n",
       "\n",
       "       [[ 5, 78,  2, 34,  0],\n",
       "        [ 6, 79,  3, 35,  1],\n",
       "        [ 7, 80,  4, 36,  2]],\n",
       "\n",
       "       [[ 5, 78,  2, 34,  0],\n",
       "        [ 6, 79,  3, 35,  1],\n",
       "        [ 7, 80,  4, 36,  2]]])"
      ]
     },
     "execution_count": 17,
     "metadata": {},
     "output_type": "execute_result"
    }
   ],
   "source": [
    "# 3D tensor \n",
    "\n",
    "# This 3D tensor's shape is (3, 3, 5). Number of matrices, number of rows in one matrix and number of columns in one matrix. \n",
    "c = np.array([[[5, 78, 2, 34, 0],\n",
    "               [6, 79, 3, 35, 1],\n",
    "               [7, 80, 4, 36, 2]],\n",
    "              [[5, 78, 2, 34, 0],\n",
    "               [6, 79, 3, 35, 1],\n",
    "               [7, 80, 4, 36, 2]],\n",
    "              [[5, 78, 2, 34, 0],\n",
    "               [6, 79, 3, 35, 1],\n",
    "               [7, 80, 4, 36, 2]]])\n",
    "c"
   ]
  },
  {
   "cell_type": "code",
   "execution_count": 18,
   "id": "international-liverpool",
   "metadata": {},
   "outputs": [
    {
     "data": {
      "text/plain": [
       "3"
      ]
     },
     "execution_count": 18,
     "metadata": {},
     "output_type": "execute_result"
    }
   ],
   "source": [
    "c.ndim"
   ]
  },
  {
   "cell_type": "code",
   "execution_count": 19,
   "id": "loving-sphere",
   "metadata": {},
   "outputs": [
    {
     "data": {
      "text/plain": [
       "(3, 3, 5)"
      ]
     },
     "execution_count": 19,
     "metadata": {},
     "output_type": "execute_result"
    }
   ],
   "source": [
    "c.shape"
   ]
  },
  {
   "cell_type": "code",
   "execution_count": 20,
   "id": "widespread-license",
   "metadata": {},
   "outputs": [
    {
     "data": {
      "text/plain": [
       "dtype('int32')"
      ]
     },
     "execution_count": 20,
     "metadata": {},
     "output_type": "execute_result"
    }
   ],
   "source": [
    "c.dtype"
   ]
  },
  {
   "cell_type": "code",
   "execution_count": 21,
   "id": "worst-peter",
   "metadata": {},
   "outputs": [
    {
     "data": {
      "text/plain": [
       "array([[[[ 5, 78,  2, 34],\n",
       "         [ 6, 79,  3, 35],\n",
       "         [ 7, 80,  4, 36]],\n",
       "\n",
       "        [[ 5, 78,  2, 34],\n",
       "         [ 6, 79,  3, 35],\n",
       "         [ 7, 80,  4, 36]]],\n",
       "\n",
       "\n",
       "       [[[ 5, 78,  2, 34],\n",
       "         [ 6, 79,  3, 35],\n",
       "         [ 7, 80,  4, 36]],\n",
       "\n",
       "        [[ 5, 78,  2, 34],\n",
       "         [ 6, 79,  3, 35],\n",
       "         [ 7, 80,  4, 36]]],\n",
       "\n",
       "\n",
       "       [[[ 5, 78,  2, 34],\n",
       "         [ 6, 79,  3, 35],\n",
       "         [ 7, 80,  4, 36]],\n",
       "\n",
       "        [[ 5, 78,  2, 34],\n",
       "         [ 6, 79,  3, 35],\n",
       "         [ 7, 80,  4, 36]]],\n",
       "\n",
       "\n",
       "       [[[ 5, 78,  2, 34],\n",
       "         [ 6, 79,  3, 35],\n",
       "         [ 7, 80,  4, 36]],\n",
       "\n",
       "        [[ 5, 78,  2, 34],\n",
       "         [ 6, 79,  3, 35],\n",
       "         [ 7, 80,  4, 36]]]])"
      ]
     },
     "execution_count": 21,
     "metadata": {},
     "output_type": "execute_result"
    }
   ],
   "source": [
    "# 4D tensor \n",
    "\n",
    "\"\"\"\n",
    "This 4D tensor's shape is (4, 2, 3, 4). 4 is number of groups,\n",
    "                                        2 is number of matrices inside one group,\n",
    "                                        3 is number of rows in one matrix,\n",
    "                                        4 is number of columns in one matrix.\n",
    "\"\"\"\n",
    "\n",
    "d = np.array(\n",
    "    [\n",
    "        [\n",
    "                [ [5, 78, 2, 34],\n",
    "                  [6, 79, 3, 35],\n",
    "                  [7, 80, 4, 36] ],\n",
    "                [ [5, 78, 2, 34],\n",
    "                  [6, 79, 3, 35],\n",
    "                  [7, 80, 4, 36] ]\n",
    "        ],\n",
    "        \n",
    "        [\n",
    "                [ [5, 78, 2, 34],\n",
    "                  [6, 79, 3, 35],\n",
    "                  [7, 80, 4, 36] ],\n",
    "                [ [5, 78, 2, 34],\n",
    "                  [6, 79, 3, 35],\n",
    "                  [7, 80, 4, 36] ]\n",
    "        ],\n",
    "        \n",
    "        [\n",
    "                [ [5, 78, 2, 34],\n",
    "                  [6, 79, 3, 35],\n",
    "                  [7, 80, 4, 36] ],\n",
    "                [ [5, 78, 2, 34],\n",
    "                  [6, 79, 3, 35],\n",
    "                  [7, 80, 4, 36] ]\n",
    "        ],\n",
    "        \n",
    "        [\n",
    "                [ [5, 78, 2, 34],\n",
    "                  [6, 79, 3, 35],\n",
    "                  [7, 80, 4, 36] ],\n",
    "                [ [5, 78, 2, 34],\n",
    "                  [6, 79, 3, 35],\n",
    "                  [7, 80, 4, 36] ]\n",
    "        ]\n",
    "    ]\n",
    ")\n",
    "\n",
    "d"
   ]
  },
  {
   "cell_type": "code",
   "execution_count": 22,
   "id": "prescription-pressure",
   "metadata": {},
   "outputs": [
    {
     "data": {
      "text/plain": [
       "4"
      ]
     },
     "execution_count": 22,
     "metadata": {},
     "output_type": "execute_result"
    }
   ],
   "source": [
    "d.ndim"
   ]
  },
  {
   "cell_type": "code",
   "execution_count": 23,
   "id": "closing-dancing",
   "metadata": {},
   "outputs": [
    {
     "data": {
      "text/plain": [
       "(4, 2, 3, 4)"
      ]
     },
     "execution_count": 23,
     "metadata": {},
     "output_type": "execute_result"
    }
   ],
   "source": [
    "d.shape"
   ]
  },
  {
   "cell_type": "code",
   "execution_count": 24,
   "id": "palestinian-choir",
   "metadata": {},
   "outputs": [
    {
     "data": {
      "text/plain": [
       "dtype('int32')"
      ]
     },
     "execution_count": 24,
     "metadata": {},
     "output_type": "execute_result"
    }
   ],
   "source": [
    "d.dtype"
   ]
  },
  {
   "cell_type": "code",
   "execution_count": null,
   "id": "latest-counter",
   "metadata": {},
   "outputs": [],
   "source": []
  }
 ],
 "metadata": {
  "kernelspec": {
   "display_name": "Python 3",
   "language": "python",
   "name": "python3"
  },
  "language_info": {
   "codemirror_mode": {
    "name": "ipython",
    "version": 3
   },
   "file_extension": ".py",
   "mimetype": "text/x-python",
   "name": "python",
   "nbconvert_exporter": "python",
   "pygments_lexer": "ipython3",
   "version": "3.8.6"
  }
 },
 "nbformat": 4,
 "nbformat_minor": 5
}
