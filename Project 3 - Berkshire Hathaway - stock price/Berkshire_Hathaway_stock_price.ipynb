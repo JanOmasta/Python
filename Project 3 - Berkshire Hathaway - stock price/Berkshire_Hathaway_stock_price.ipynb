{
  "nbformat": 4,
  "nbformat_minor": 0,
  "metadata": {
    "colab": {
      "name": "Berkshire Hathaway - stock price.ipynb",
      "provenance": [],
      "authorship_tag": "ABX9TyPbqkgH3FrX1JsXo5GqdWDK",
      "include_colab_link": true
    },
    "kernelspec": {
      "name": "python3",
      "display_name": "Python 3"
    }
  },
  "cells": [
    {
      "cell_type": "markdown",
      "metadata": {
        "id": "view-in-github",
        "colab_type": "text"
      },
      "source": [
        "<a href=\"https://colab.research.google.com/github/JanOmasta/Python/blob/main/Project%203%20-%20Berkshire%20Hathaway%20-%20stock%20price/Berkshire_Hathaway_stock_price.ipynb\" target=\"_parent\"><img src=\"https://colab.research.google.com/assets/colab-badge.svg\" alt=\"Open In Colab\"/></a>"
      ]
    },
    {
      "cell_type": "code",
      "metadata": {
        "id": "AFDLpR4NgwGP"
      },
      "source": [
        "# This program shows Berkshire Hathaway Inc. (BRK-B) stock close price for all trading days of January 2021 (from 4th January 2021 until 29th January 2021). \r\n",
        "# The input data have been downloaded from https://finance.yahoo.com/quote/BRK-B/history?p=BRK-B as a csv file. \r\n",
        "# Currency in USD. The stock is traded on NYSE.\r\n",
        "\r\n",
        "# Import the libraries.\r\n",
        "from sklearn.svm import SVR\r\n",
        "import numpy as np\r\n",
        "import pandas as pd \r\n",
        "import matplotlib.pyplot as plt \r\n",
        "plt.style.use('fivethirtyeight')"
      ],
      "execution_count": 4,
      "outputs": []
    },
    {
      "cell_type": "code",
      "metadata": {
        "colab": {
          "resources": {
            "http://localhost:8080/nbextensions/google.colab/files.js": {
              "data": "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",
              "ok": true,
              "headers": [
                [
                  "content-type",
                  "application/javascript"
                ]
              ],
              "status": 200,
              "status_text": ""
            }
          },
          "base_uri": "https://localhost:8080/",
          "height": 110
        },
        "id": "yye3iPpbfohL",
        "outputId": "f21b02df-f3a3-4cbb-d10e-b9a4e33427c7"
      },
      "source": [
        "# Load the data.\r\n",
        "from google.colab import files\r\n",
        "files.upload()"
      ],
      "execution_count": 45,
      "outputs": [
        {
          "output_type": "display_data",
          "data": {
            "text/html": [
              "\n",
              "     <input type=\"file\" id=\"files-dfc3871c-6050-4349-b630-afbe4357953c\" name=\"files[]\" multiple disabled\n",
              "        style=\"border:none\" />\n",
              "     <output id=\"result-dfc3871c-6050-4349-b630-afbe4357953c\">\n",
              "      Upload widget is only available when the cell has been executed in the\n",
              "      current browser session. Please rerun this cell to enable.\n",
              "      </output>\n",
              "      <script src=\"/nbextensions/google.colab/files.js\"></script> "
            ],
            "text/plain": [
              "<IPython.core.display.HTML object>"
            ]
          },
          "metadata": {
            "tags": []
          }
        },
        {
          "output_type": "stream",
          "text": [
            "Saving BRK-B data.csv to BRK-B data.csv\n"
          ],
          "name": "stdout"
        },
        {
          "output_type": "execute_result",
          "data": {
            "text/plain": [
              "{'BRK-B data.csv': b'Date,Open,High,Low,Close,Adj Close,Volume\\n2021-01-04,231.729996,231.869995,226.850006,228.449997,228.449997,7404900\\n2021-01-05,228.210007,230.100006,226.850006,227.470001,227.470001,5524900\\n2021-01-06,229.490005,232.679993,227.550003,230.270004,230.270004,9009400\\n2021-01-07,232.779999,233.960007,231.330002,232.880005,232.880005,4691600\\n2021-01-08,233.539993,234.600006,231.720001,234.029999,234.029999,4850400\\n2021-01-11,231.220001,233.919998,231.020004,233.429993,233.429993,3882000\\n2021-01-12,233.309998,233.979996,231.699997,233.029999,233.029999,5616600\\n2021-01-13,232.000000,234.949997,231.710007,234.509995,234.509995,3827500\\n2021-01-14,234.789993,235.699997,233.839996,235.020004,235.020004,4528700\\n2021-01-15,234.100006,234.589996,231.910004,233.490005,233.490005,5225000\\n2021-01-19,234.639999,236.240005,231.699997,234.550003,234.550003,5502100\\n2021-01-20,234.000000,235.199997,233.240005,234.759995,234.759995,4876200\\n2021-01-21,235.220001,236.199997,234.080002,234.160004,234.160004,4317300\\n2021-01-22,232.500000,233.830002,232.210007,232.919998,232.919998,4465000\\n2021-01-25,231.669998,233.520004,230.449997,233.009995,233.009995,5097700\\n2021-01-26,233.000000,233.500000,231.330002,231.570007,231.570007,3944800\\n2021-01-27,230.000000,230.000000,226.100006,227.360001,227.360001,8227100\\n2021-01-28,229.759995,233.509995,228.160004,230.949997,230.949997,5943500\\n2021-01-29,229.449997,229.970001,227.210007,227.869995,227.869995,6387300'}"
            ]
          },
          "metadata": {
            "tags": []
          },
          "execution_count": 45
        }
      ]
    },
    {
      "cell_type": "code",
      "metadata": {
        "colab": {
          "base_uri": "https://localhost:8080/",
          "height": 610
        },
        "id": "PgFP7lgYgm5_",
        "outputId": "720f77bd-09f1-4067-c6d6-2da0cc9244e9"
      },
      "source": [
        "# Store the data.\r\n",
        "df = pd.read_csv('BRK-B data.csv')\r\n",
        "# Show the data.\r\n",
        "df"
      ],
      "execution_count": 47,
      "outputs": [
        {
          "output_type": "execute_result",
          "data": {
            "text/html": [
              "<div>\n",
              "<style scoped>\n",
              "    .dataframe tbody tr th:only-of-type {\n",
              "        vertical-align: middle;\n",
              "    }\n",
              "\n",
              "    .dataframe tbody tr th {\n",
              "        vertical-align: top;\n",
              "    }\n",
              "\n",
              "    .dataframe thead th {\n",
              "        text-align: right;\n",
              "    }\n",
              "</style>\n",
              "<table border=\"1\" class=\"dataframe\">\n",
              "  <thead>\n",
              "    <tr style=\"text-align: right;\">\n",
              "      <th></th>\n",
              "      <th>Date</th>\n",
              "      <th>Open</th>\n",
              "      <th>High</th>\n",
              "      <th>Low</th>\n",
              "      <th>Close</th>\n",
              "      <th>Adj Close</th>\n",
              "      <th>Volume</th>\n",
              "    </tr>\n",
              "  </thead>\n",
              "  <tbody>\n",
              "    <tr>\n",
              "      <th>0</th>\n",
              "      <td>2021-01-04</td>\n",
              "      <td>231.729996</td>\n",
              "      <td>231.869995</td>\n",
              "      <td>226.850006</td>\n",
              "      <td>228.449997</td>\n",
              "      <td>228.449997</td>\n",
              "      <td>7404900</td>\n",
              "    </tr>\n",
              "    <tr>\n",
              "      <th>1</th>\n",
              "      <td>2021-01-05</td>\n",
              "      <td>228.210007</td>\n",
              "      <td>230.100006</td>\n",
              "      <td>226.850006</td>\n",
              "      <td>227.470001</td>\n",
              "      <td>227.470001</td>\n",
              "      <td>5524900</td>\n",
              "    </tr>\n",
              "    <tr>\n",
              "      <th>2</th>\n",
              "      <td>2021-01-06</td>\n",
              "      <td>229.490005</td>\n",
              "      <td>232.679993</td>\n",
              "      <td>227.550003</td>\n",
              "      <td>230.270004</td>\n",
              "      <td>230.270004</td>\n",
              "      <td>9009400</td>\n",
              "    </tr>\n",
              "    <tr>\n",
              "      <th>3</th>\n",
              "      <td>2021-01-07</td>\n",
              "      <td>232.779999</td>\n",
              "      <td>233.960007</td>\n",
              "      <td>231.330002</td>\n",
              "      <td>232.880005</td>\n",
              "      <td>232.880005</td>\n",
              "      <td>4691600</td>\n",
              "    </tr>\n",
              "    <tr>\n",
              "      <th>4</th>\n",
              "      <td>2021-01-08</td>\n",
              "      <td>233.539993</td>\n",
              "      <td>234.600006</td>\n",
              "      <td>231.720001</td>\n",
              "      <td>234.029999</td>\n",
              "      <td>234.029999</td>\n",
              "      <td>4850400</td>\n",
              "    </tr>\n",
              "    <tr>\n",
              "      <th>5</th>\n",
              "      <td>2021-01-11</td>\n",
              "      <td>231.220001</td>\n",
              "      <td>233.919998</td>\n",
              "      <td>231.020004</td>\n",
              "      <td>233.429993</td>\n",
              "      <td>233.429993</td>\n",
              "      <td>3882000</td>\n",
              "    </tr>\n",
              "    <tr>\n",
              "      <th>6</th>\n",
              "      <td>2021-01-12</td>\n",
              "      <td>233.309998</td>\n",
              "      <td>233.979996</td>\n",
              "      <td>231.699997</td>\n",
              "      <td>233.029999</td>\n",
              "      <td>233.029999</td>\n",
              "      <td>5616600</td>\n",
              "    </tr>\n",
              "    <tr>\n",
              "      <th>7</th>\n",
              "      <td>2021-01-13</td>\n",
              "      <td>232.000000</td>\n",
              "      <td>234.949997</td>\n",
              "      <td>231.710007</td>\n",
              "      <td>234.509995</td>\n",
              "      <td>234.509995</td>\n",
              "      <td>3827500</td>\n",
              "    </tr>\n",
              "    <tr>\n",
              "      <th>8</th>\n",
              "      <td>2021-01-14</td>\n",
              "      <td>234.789993</td>\n",
              "      <td>235.699997</td>\n",
              "      <td>233.839996</td>\n",
              "      <td>235.020004</td>\n",
              "      <td>235.020004</td>\n",
              "      <td>4528700</td>\n",
              "    </tr>\n",
              "    <tr>\n",
              "      <th>9</th>\n",
              "      <td>2021-01-15</td>\n",
              "      <td>234.100006</td>\n",
              "      <td>234.589996</td>\n",
              "      <td>231.910004</td>\n",
              "      <td>233.490005</td>\n",
              "      <td>233.490005</td>\n",
              "      <td>5225000</td>\n",
              "    </tr>\n",
              "    <tr>\n",
              "      <th>10</th>\n",
              "      <td>2021-01-19</td>\n",
              "      <td>234.639999</td>\n",
              "      <td>236.240005</td>\n",
              "      <td>231.699997</td>\n",
              "      <td>234.550003</td>\n",
              "      <td>234.550003</td>\n",
              "      <td>5502100</td>\n",
              "    </tr>\n",
              "    <tr>\n",
              "      <th>11</th>\n",
              "      <td>2021-01-20</td>\n",
              "      <td>234.000000</td>\n",
              "      <td>235.199997</td>\n",
              "      <td>233.240005</td>\n",
              "      <td>234.759995</td>\n",
              "      <td>234.759995</td>\n",
              "      <td>4876200</td>\n",
              "    </tr>\n",
              "    <tr>\n",
              "      <th>12</th>\n",
              "      <td>2021-01-21</td>\n",
              "      <td>235.220001</td>\n",
              "      <td>236.199997</td>\n",
              "      <td>234.080002</td>\n",
              "      <td>234.160004</td>\n",
              "      <td>234.160004</td>\n",
              "      <td>4317300</td>\n",
              "    </tr>\n",
              "    <tr>\n",
              "      <th>13</th>\n",
              "      <td>2021-01-22</td>\n",
              "      <td>232.500000</td>\n",
              "      <td>233.830002</td>\n",
              "      <td>232.210007</td>\n",
              "      <td>232.919998</td>\n",
              "      <td>232.919998</td>\n",
              "      <td>4465000</td>\n",
              "    </tr>\n",
              "    <tr>\n",
              "      <th>14</th>\n",
              "      <td>2021-01-25</td>\n",
              "      <td>231.669998</td>\n",
              "      <td>233.520004</td>\n",
              "      <td>230.449997</td>\n",
              "      <td>233.009995</td>\n",
              "      <td>233.009995</td>\n",
              "      <td>5097700</td>\n",
              "    </tr>\n",
              "    <tr>\n",
              "      <th>15</th>\n",
              "      <td>2021-01-26</td>\n",
              "      <td>233.000000</td>\n",
              "      <td>233.500000</td>\n",
              "      <td>231.330002</td>\n",
              "      <td>231.570007</td>\n",
              "      <td>231.570007</td>\n",
              "      <td>3944800</td>\n",
              "    </tr>\n",
              "    <tr>\n",
              "      <th>16</th>\n",
              "      <td>2021-01-27</td>\n",
              "      <td>230.000000</td>\n",
              "      <td>230.000000</td>\n",
              "      <td>226.100006</td>\n",
              "      <td>227.360001</td>\n",
              "      <td>227.360001</td>\n",
              "      <td>8227100</td>\n",
              "    </tr>\n",
              "    <tr>\n",
              "      <th>17</th>\n",
              "      <td>2021-01-28</td>\n",
              "      <td>229.759995</td>\n",
              "      <td>233.509995</td>\n",
              "      <td>228.160004</td>\n",
              "      <td>230.949997</td>\n",
              "      <td>230.949997</td>\n",
              "      <td>5943500</td>\n",
              "    </tr>\n",
              "    <tr>\n",
              "      <th>18</th>\n",
              "      <td>2021-01-29</td>\n",
              "      <td>229.449997</td>\n",
              "      <td>229.970001</td>\n",
              "      <td>227.210007</td>\n",
              "      <td>227.869995</td>\n",
              "      <td>227.869995</td>\n",
              "      <td>6387300</td>\n",
              "    </tr>\n",
              "  </tbody>\n",
              "</table>\n",
              "</div>"
            ],
            "text/plain": [
              "          Date        Open        High  ...       Close   Adj Close   Volume\n",
              "0   2021-01-04  231.729996  231.869995  ...  228.449997  228.449997  7404900\n",
              "1   2021-01-05  228.210007  230.100006  ...  227.470001  227.470001  5524900\n",
              "2   2021-01-06  229.490005  232.679993  ...  230.270004  230.270004  9009400\n",
              "3   2021-01-07  232.779999  233.960007  ...  232.880005  232.880005  4691600\n",
              "4   2021-01-08  233.539993  234.600006  ...  234.029999  234.029999  4850400\n",
              "5   2021-01-11  231.220001  233.919998  ...  233.429993  233.429993  3882000\n",
              "6   2021-01-12  233.309998  233.979996  ...  233.029999  233.029999  5616600\n",
              "7   2021-01-13  232.000000  234.949997  ...  234.509995  234.509995  3827500\n",
              "8   2021-01-14  234.789993  235.699997  ...  235.020004  235.020004  4528700\n",
              "9   2021-01-15  234.100006  234.589996  ...  233.490005  233.490005  5225000\n",
              "10  2021-01-19  234.639999  236.240005  ...  234.550003  234.550003  5502100\n",
              "11  2021-01-20  234.000000  235.199997  ...  234.759995  234.759995  4876200\n",
              "12  2021-01-21  235.220001  236.199997  ...  234.160004  234.160004  4317300\n",
              "13  2021-01-22  232.500000  233.830002  ...  232.919998  232.919998  4465000\n",
              "14  2021-01-25  231.669998  233.520004  ...  233.009995  233.009995  5097700\n",
              "15  2021-01-26  233.000000  233.500000  ...  231.570007  231.570007  3944800\n",
              "16  2021-01-27  230.000000  230.000000  ...  227.360001  227.360001  8227100\n",
              "17  2021-01-28  229.759995  233.509995  ...  230.949997  230.949997  5943500\n",
              "18  2021-01-29  229.449997  229.970001  ...  227.869995  227.869995  6387300\n",
              "\n",
              "[19 rows x 7 columns]"
            ]
          },
          "metadata": {
            "tags": []
          },
          "execution_count": 47
        }
      ]
    },
    {
      "cell_type": "code",
      "metadata": {
        "colab": {
          "base_uri": "https://localhost:8080/",
          "height": 77
        },
        "id": "L5s-cCeUkzW_",
        "outputId": "431d6a35-530c-4205-854c-23aaf4c03196"
      },
      "source": [
        "# Show and store the last row of data (the newest close price).\r\n",
        "actual_price = df.tail(1)\r\n",
        "\r\n",
        "# Show the data.\r\n",
        "actual_price"
      ],
      "execution_count": 53,
      "outputs": [
        {
          "output_type": "execute_result",
          "data": {
            "text/html": [
              "<div>\n",
              "<style scoped>\n",
              "    .dataframe tbody tr th:only-of-type {\n",
              "        vertical-align: middle;\n",
              "    }\n",
              "\n",
              "    .dataframe tbody tr th {\n",
              "        vertical-align: top;\n",
              "    }\n",
              "\n",
              "    .dataframe thead th {\n",
              "        text-align: right;\n",
              "    }\n",
              "</style>\n",
              "<table border=\"1\" class=\"dataframe\">\n",
              "  <thead>\n",
              "    <tr style=\"text-align: right;\">\n",
              "      <th></th>\n",
              "      <th>Date</th>\n",
              "      <th>Open</th>\n",
              "      <th>High</th>\n",
              "      <th>Low</th>\n",
              "      <th>Close</th>\n",
              "      <th>Adj Close</th>\n",
              "      <th>Volume</th>\n",
              "    </tr>\n",
              "  </thead>\n",
              "  <tbody>\n",
              "    <tr>\n",
              "      <th>18</th>\n",
              "      <td>2021-01-29</td>\n",
              "      <td>229.449997</td>\n",
              "      <td>229.970001</td>\n",
              "      <td>227.210007</td>\n",
              "      <td>227.869995</td>\n",
              "      <td>227.869995</td>\n",
              "      <td>6387300</td>\n",
              "    </tr>\n",
              "  </tbody>\n",
              "</table>\n",
              "</div>"
            ],
            "text/plain": [
              "          Date        Open        High  ...       Close   Adj Close   Volume\n",
              "18  2021-01-29  229.449997  229.970001  ...  227.869995  227.869995  6387300\n",
              "\n",
              "[1 rows x 7 columns]"
            ]
          },
          "metadata": {
            "tags": []
          },
          "execution_count": 53
        }
      ]
    },
    {
      "cell_type": "code",
      "metadata": {
        "id": "JwUyxcyPlfgX"
      },
      "source": [
        "# Create empty lists\r\n",
        "trading_days = []\r\n",
        "adj_close_prices = []"
      ],
      "execution_count": 54,
      "outputs": []
    },
    {
      "cell_type": "code",
      "metadata": {
        "colab": {
          "base_uri": "https://localhost:8080/"
        },
        "id": "u4QQNa6Ol81u",
        "outputId": "b6f7dd06-cc51-430e-9d50-30197f69431d"
      },
      "source": [
        "# Get only the dates.\r\n",
        "df_days = df['Date']\r\n",
        "df_days"
      ],
      "execution_count": 55,
      "outputs": [
        {
          "output_type": "execute_result",
          "data": {
            "text/plain": [
              "0     2021-01-04\n",
              "1     2021-01-05\n",
              "2     2021-01-06\n",
              "3     2021-01-07\n",
              "4     2021-01-08\n",
              "5     2021-01-11\n",
              "6     2021-01-12\n",
              "7     2021-01-13\n",
              "8     2021-01-14\n",
              "9     2021-01-15\n",
              "10    2021-01-19\n",
              "11    2021-01-20\n",
              "12    2021-01-21\n",
              "13    2021-01-22\n",
              "14    2021-01-25\n",
              "15    2021-01-26\n",
              "16    2021-01-27\n",
              "17    2021-01-28\n",
              "18    2021-01-29\n",
              "Name: Date, dtype: object"
            ]
          },
          "metadata": {
            "tags": []
          },
          "execution_count": 55
        }
      ]
    },
    {
      "cell_type": "code",
      "metadata": {
        "colab": {
          "base_uri": "https://localhost:8080/"
        },
        "id": "PxwCOx2bn5L_",
        "outputId": "0616b582-4052-4fa0-868e-2d370fa39b42"
      },
      "source": [
        "# Create the independent data set (dates). \r\n",
        "for day in df_days:\r\n",
        "    trading_days.append([int(day.split('-')[2])]) \r\n",
        "trading_days"
      ],
      "execution_count": 56,
      "outputs": [
        {
          "output_type": "execute_result",
          "data": {
            "text/plain": [
              "[[4],\n",
              " [5],\n",
              " [6],\n",
              " [7],\n",
              " [8],\n",
              " [11],\n",
              " [12],\n",
              " [13],\n",
              " [14],\n",
              " [15],\n",
              " [19],\n",
              " [20],\n",
              " [21],\n",
              " [22],\n",
              " [25],\n",
              " [26],\n",
              " [27],\n",
              " [28],\n",
              " [29]]"
            ]
          },
          "metadata": {
            "tags": []
          },
          "execution_count": 56
        }
      ]
    },
    {
      "cell_type": "code",
      "metadata": {
        "colab": {
          "base_uri": "https://localhost:8080/"
        },
        "id": "mhJo7FV5owxP",
        "outputId": "9c58bd49-78db-4798-92d5-7353a50630c5"
      },
      "source": [
        "# Get only the adjusted close prices.\r\n",
        "df_adj_close = df['Adj Close']\r\n",
        "df_adj_close"
      ],
      "execution_count": 57,
      "outputs": [
        {
          "output_type": "execute_result",
          "data": {
            "text/plain": [
              "0     228.449997\n",
              "1     227.470001\n",
              "2     230.270004\n",
              "3     232.880005\n",
              "4     234.029999\n",
              "5     233.429993\n",
              "6     233.029999\n",
              "7     234.509995\n",
              "8     235.020004\n",
              "9     233.490005\n",
              "10    234.550003\n",
              "11    234.759995\n",
              "12    234.160004\n",
              "13    232.919998\n",
              "14    233.009995\n",
              "15    231.570007\n",
              "16    227.360001\n",
              "17    230.949997\n",
              "18    227.869995\n",
              "Name: Adj Close, dtype: float64"
            ]
          },
          "metadata": {
            "tags": []
          },
          "execution_count": 57
        }
      ]
    },
    {
      "cell_type": "code",
      "metadata": {
        "colab": {
          "base_uri": "https://localhost:8080/"
        },
        "id": "alhLUOh0pDYf",
        "outputId": "c318db56-9439-42fd-bf32-8ed1b3b96296"
      },
      "source": [
        "# Create the dependent data set (adj close prices).\r\n",
        "for adj_close_price in df_adj_close:\r\n",
        "    adj_close_prices.append(round(adj_close_price, 2))\r\n",
        "adj_close_prices"
      ],
      "execution_count": 58,
      "outputs": [
        {
          "output_type": "execute_result",
          "data": {
            "text/plain": [
              "[228.45,\n",
              " 227.47,\n",
              " 230.27,\n",
              " 232.88,\n",
              " 234.03,\n",
              " 233.43,\n",
              " 233.03,\n",
              " 234.51,\n",
              " 235.02,\n",
              " 233.49,\n",
              " 234.55,\n",
              " 234.76,\n",
              " 234.16,\n",
              " 232.92,\n",
              " 233.01,\n",
              " 231.57,\n",
              " 227.36,\n",
              " 230.95,\n",
              " 227.87]"
            ]
          },
          "metadata": {
            "tags": []
          },
          "execution_count": 58
        }
      ]
    },
    {
      "cell_type": "code",
      "metadata": {
        "colab": {
          "base_uri": "https://localhost:8080/",
          "height": 479
        },
        "id": "peJOk7sTs18A",
        "outputId": "fc67d279-5324-4b7e-e45e-7564cbe6c576"
      },
      "source": [
        "# Plot the data.\r\n",
        "plt.figure(figsize=(14, 7))\r\n",
        "plt.scatter(trading_days, adj_close_prices, s = 30, color = 'blue', label = 'BRK-B price')\r\n",
        "plt.plot(trading_days, adj_close_prices, linewidth = 2, color = 'orange', label = 'Linear curve')\r\n",
        "\r\n",
        "plt.xlabel('Trading Days from Jan 04, 2021 until Jan 29, 2021')\r\n",
        "plt.ylabel('Adj Close Price ($)')\r\n",
        "plt.legend()\r\n",
        "plt.show()"
      ],
      "execution_count": 83,
      "outputs": [
        {
          "output_type": "display_data",
          "data": {
            "image/png": "[encoded data removed]",
            "text/plain": [
              "<Figure size 1008x504 with 1 Axes>"
            ]
          },
          "metadata": {
            "tags": []
          }
        }
      ]
    }
  ]
}